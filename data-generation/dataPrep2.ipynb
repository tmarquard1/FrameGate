{
 "cells": [
  {
   "cell_type": "code",
   "execution_count": null,
   "metadata": {
    "executionInfo": {
     "elapsed": 5784,
     "status": "ok",
     "timestamp": 1732401602820,
     "user": {
      "displayName": "Talon Marquard",
      "userId": "05252226019194787772"
     },
     "user_tz": 420
    },
    "id": "mGYBqN2bE02o"
   },
   "outputs": [],
   "source": [
    "import tensorflow as tf\n",
    "import cv2\n",
    "import numpy as np\n",
    "import pandas as pd\n",
    "import matplotlib.pyplot as plt\n",
    "import tqdm"
   ]
  },
  {
   "cell_type": "code",
   "execution_count": null,
   "metadata": {
    "executionInfo": {
     "elapsed": 6,
     "status": "ok",
     "timestamp": 1732401602821,
     "user": {
      "displayName": "Talon Marquard",
      "userId": "05252226019194787772"
     },
     "user_tz": 420
    },
    "id": "4oltxqhlE02o"
   },
   "outputs": [],
   "source": [
    "\n",
    "# Read the CSV file\n",
    "csv_file_path = 'cleaned_impact.csv'\n",
    "data = pd.read_csv(csv_file_path)"
   ]
  },
  {
   "cell_type": "code",
   "execution_count": null,
   "metadata": {
    "executionInfo": {
     "elapsed": 5,
     "status": "ok",
     "timestamp": 1732401602821,
     "user": {
      "displayName": "Talon Marquard",
      "userId": "05252226019194787772"
     },
     "user_tz": 420
    },
    "id": "ap46zaBsE02o"
   },
   "outputs": [],
   "source": [
    "def load_frame(video_path, frame_index, image_size=(224, 224)):\n",
    "    cap = cv2.VideoCapture(video_path)\n",
    "    cap.set(cv2.CAP_PROP_POS_FRAMES, frame_index)\n",
    "    ret, frame = cap.read()\n",
    "    cap.release()\n",
    "    if not ret:\n",
    "        raise ValueError(f\"Frame {frame_index} not found in video {video_path}\")\n",
    "    frame = cv2.resize(frame, image_size)\n",
    "    frame = cv2.cvtColor(frame, cv2.COLOR_BGR2RGB)\n",
    "    return frame\n",
    "\n",
    "def load_data(data, image_size=(224, 224)):\n",
    "    frames_n_list = []\n",
    "    frames_m_list = []\n",
    "    perceived_changes = []\n",
    "    for index, row in data.iterrows():\n",
    "        video_path = row['Video']\n",
    "        frame_n = int(row['Frame n'])\n",
    "        frame_m = int(row['Frame m'])\n",
    "        perceived_change = row['Perceived Change']\n",
    "\n",
    "        frame_n = load_frame(video_path, frame_n, image_size)\n",
    "        frame_m = load_frame(video_path, frame_m, image_size)\n",
    "\n",
    "        frames_n_list.append(frame_n)\n",
    "        frames_m_list.append(frame_m)\n",
    "        perceived_changes.append(perceived_change)\n",
    "\n",
    "    return frames_n_list, frames_m_list, perceived_changes"
   ]
  },
  {
   "cell_type": "code",
   "execution_count": null,
   "metadata": {
    "colab": {
     "base_uri": "https://localhost:8080/",
     "height": 869
    },
    "executionInfo": {
     "elapsed": 23424,
     "status": "ok",
     "timestamp": 1732401626240,
     "user": {
      "displayName": "Talon Marquard",
      "userId": "05252226019194787772"
     },
     "user_tz": 420
    },
    "id": "vyLp9dw9E02o",
    "outputId": "9466a598-83fd-4535-cb0d-9f6123b6bc61"
   },
   "outputs": [],
   "source": [
    "frames_n, frames_m, perceived_changes = load_data(data)\n",
    "\n"
   ]
  },
  {
   "cell_type": "code",
   "execution_count": null,
   "metadata": {
    "executionInfo": {
     "elapsed": 4,
     "status": "ok",
     "timestamp": 1732401626240,
     "user": {
      "displayName": "Talon Marquard",
      "userId": "05252226019194787772"
     },
     "user_tz": 420
    },
    "id": "takcMLlIE02p"
   },
   "outputs": [],
   "source": [
    "# normalize the images\n",
    "frames_n = np.array(frames_n) / 255.0\n",
    "frames_m = np.array(frames_m) / 255.0\n",
    "# Calculate the minimum and maximum values\n",
    "min_value = np.min(perceived_changes)\n",
    "max_value = np.max(perceived_changes)\n",
    "# Apply Min-Max normalization\n",
    "perceived_changes = (perceived_changes - min_value) / (max_value - min_value)"
   ]
  },
  {
   "cell_type": "code",
   "execution_count": null,
   "metadata": {
    "executionInfo": {
     "elapsed": 139,
     "status": "ok",
     "timestamp": 1732401626376,
     "user": {
      "displayName": "Talon Marquard",
      "userId": "05252226019194787772"
     },
     "user_tz": 420
    },
    "id": "fQozMrZUE02p"
   },
   "outputs": [],
   "source": [
    "# Shuffle the data\n",
    "indices = np.arange(len(perceived_changes))\n",
    "np.random.shuffle(indices)\n",
    "\n",
    "frames_n = tf.gather(frames_n, indices)\n",
    "frames_m = tf.gather(frames_m, indices)\n",
    "perceived_changes = tf.gather(perceived_changes, indices)"
   ]
  },
  {
   "cell_type": "code",
   "execution_count": null,
   "metadata": {
    "executionInfo": {
     "elapsed": 3,
     "status": "ok",
     "timestamp": 1732401626376,
     "user": {
      "displayName": "Talon Marquard",
      "userId": "05252226019194787772"
     },
     "user_tz": 420
    },
    "id": "WR20hEi-E02p"
   },
   "outputs": [],
   "source": [
    "# Split the data into training, validation, and test sets\n",
    "train_ratio = 0.6\n",
    "val_ratio = 0.2\n",
    "test_ratio = 0.2\n",
    "\n",
    "# Calculate the split indices\n",
    "num_samples = len(perceived_changes)\n",
    "train_end = int(train_ratio * num_samples)\n",
    "val_end = train_end + int(val_ratio * num_samples)\n",
    "\n",
    "# Split the data\n",
    "frames_n_train = frames_n[:train_end]\n",
    "frames_m_train = frames_m[:train_end]\n",
    "perceived_changes_train = perceived_changes[:train_end]\n",
    "\n",
    "frames_n_val = frames_n[train_end:val_end]\n",
    "frames_m_val = frames_m[train_end:val_end]\n",
    "perceived_changes_val = perceived_changes[train_end:val_end]\n",
    "\n",
    "frames_n_test = frames_n[val_end:]\n",
    "frames_m_test = frames_m[val_end:]\n",
    "perceived_changes_test = perceived_changes[val_end:]\n",
    "\n",
    "\n"
   ]
  },
  {
   "cell_type": "code",
   "execution_count": null,
   "metadata": {
    "colab": {
     "base_uri": "https://localhost:8080/"
    },
    "executionInfo": {
     "elapsed": 3,
     "status": "ok",
     "timestamp": 1732401626376,
     "user": {
      "displayName": "Talon Marquard",
      "userId": "05252226019194787772"
     },
     "user_tz": 420
    },
    "id": "q7u7cRVSE02p",
    "outputId": "8c880e2d-06bb-4383-feb7-a56b2b047ab7"
   },
   "outputs": [],
   "source": [
    "frames_m_test.shape"
   ]
  },
  {
   "cell_type": "code",
   "execution_count": null,
   "metadata": {
    "executionInfo": {
     "elapsed": 2,
     "status": "ok",
     "timestamp": 1732401626376,
     "user": {
      "displayName": "Talon Marquard",
      "userId": "05252226019194787772"
     },
     "user_tz": 420
    },
    "id": "uWMYzn6KE02p"
   },
   "outputs": [],
   "source": [
    "# Create a TensorFlow dataset\n",
    "train_dataset = tf.data.Dataset.from_tensor_slices(((frames_n_train, frames_m_train), perceived_changes_train))\n",
    "val_dataset = tf.data.Dataset.from_tensor_slices(((frames_n_val, frames_m_val), perceived_changes_val))\n",
    "test_dataset = tf.data.Dataset.from_tensor_slices(((frames_n_test, frames_m_test), perceived_changes_test))\n",
    "\n",
    "# Shuffle and batch the dataset\n",
    "batch_size = 32\n",
    "train_dataset = train_dataset.shuffle(buffer_size=len(perceived_changes)).batch(batch_size).prefetch(tf.data.AUTOTUNE)\n",
    "val_dataset = val_dataset.batch(batch_size).prefetch(tf.data.AUTOTUNE)\n",
    "test_dataset = test_dataset.batch(batch_size).prefetch(tf.data.AUTOTUNE)"
   ]
  },
  {
   "cell_type": "code",
   "execution_count": null,
   "metadata": {
    "colab": {
     "base_uri": "https://localhost:8080/"
    },
    "executionInfo": {
     "elapsed": 1767,
     "status": "ok",
     "timestamp": 1732401628141,
     "user": {
      "displayName": "Talon Marquard",
      "userId": "05252226019194787772"
     },
     "user_tz": 420
    },
    "id": "-DrbzuBWE02q",
    "outputId": "4df3d1e5-1b65-4483-d1a4-db4c2a43211b"
   },
   "outputs": [],
   "source": [
    "# Define the neural network model\n",
    "input_n = tf.keras.layers.Input(shape=(224, 224, 3))\n",
    "input_m = tf.keras.layers.Input(shape=(224, 224, 3))\n",
    "\n",
    "# Shared convolutional base\n",
    "base_model = tf.keras.applications.MobileNetV3Small(weights='imagenet', include_top=False, input_shape=(224, 224, 3))\n",
    "base_model.trainable = False\n",
    "x_n = base_model(input_n)\n",
    "x_m = base_model(input_m)\n",
    "\n",
    "# Global average pooling\n",
    "x_n = tf.keras.layers.GlobalAveragePooling2D()(x_n)\n",
    "x_m = tf.keras.layers.GlobalAveragePooling2D()(x_m)\n",
    "\n",
    "# Concatenate the outputs\n",
    "x = tf.keras.layers.Concatenate()([x_n, x_m])\n",
    "\n",
    "# Fully connected layer\n",
    "x = tf.keras.layers.Dense(128, activation='relu', kernel_regularizer=tf.keras.regularizers.l2(0.01))(x)\n",
    "x = tf.keras.layers.BatchNormalization()(x)\n",
    "output = tf.keras.layers.Dense(1, activation='sigmoid')(x)\n",
    "\n",
    "model = tf.keras.models.Model(inputs=[input_n, input_m], outputs=output)\n",
    "\n"
   ]
  },
  {
   "cell_type": "code",
   "execution_count": null,
   "metadata": {
    "colab": {
     "base_uri": "https://localhost:8080/"
    },
    "executionInfo": {
     "elapsed": 12,
     "status": "ok",
     "timestamp": 1732401628142,
     "user": {
      "displayName": "Talon Marquard",
      "userId": "05252226019194787772"
     },
     "user_tz": 420
    },
    "id": "bpKCWl2oE02q",
    "outputId": "5e448c63-00c7-445c-8147-9829342d4db9"
   },
   "outputs": [],
   "source": [
    "model.trainable_variables\n"
   ]
  },
  {
   "cell_type": "code",
   "execution_count": null,
   "metadata": {
    "colab": {
     "base_uri": "https://localhost:8080/",
     "height": 0
    },
    "executionInfo": {
     "elapsed": 9,
     "status": "ok",
     "timestamp": 1732401628142,
     "user": {
      "displayName": "Talon Marquard",
      "userId": "05252226019194787772"
     },
     "user_tz": 420
    },
    "id": "snBKD9yvE02q",
    "outputId": "c41167e0-255c-464c-9cde-8965e7ca400c"
   },
   "outputs": [],
   "source": [
    "model.summary()"
   ]
  },
  {
   "cell_type": "code",
   "execution_count": null,
   "metadata": {},
   "outputs": [],
   "source": [
    "# Train the new layers for a few epochs\n",
    "# Compile the model\n",
    "model.compile(optimizer='adam', loss='binary_crossentropy', metrics=['accuracy'])\n",
    "\n",
    "# Train the model\n",
    "epochs = 10\n",
    "model.fit(\n",
    "    train_dataset,\n",
    "    validation_data=val_dataset,\n",
    "    epochs=epochs\n",
    ")\n",
    "\n",
    "# Save the trained model\n",
    "model.save(f'{drivePath}/trained_model.h5')"
   ]
  },
  {
   "cell_type": "code",
   "execution_count": null,
   "metadata": {},
   "outputs": [],
   "source": [
    "# Unfreeze the last 50% of the layers of the base model\n",
    "total_layers = len(base_model.layers)\n",
    "for layer in base_model.layers[int(total_layers * 0.5):]:\n",
    "    layer.trainable = True"
   ]
  },
  {
   "cell_type": "code",
   "execution_count": null,
   "metadata": {
    "colab": {
     "base_uri": "https://localhost:8080/"
    },
    "executionInfo": {
     "elapsed": 16495,
     "status": "ok",
     "timestamp": 1732401644630,
     "user": {
      "displayName": "Talon Marquard",
      "userId": "05252226019194787772"
     },
     "user_tz": 420
    },
    "id": "zSHOfSAeE02q",
    "outputId": "62a13113-f50b-42d3-f7ad-33a99b72fea8"
   },
   "outputs": [],
   "source": [
    "def lr_schedule(epoch, lr):\n",
    "    decay_rate = 0.1\n",
    "    decay_step = 5\n",
    "    if epoch % decay_step == 0 and epoch:\n",
    "        return lr * decay_rate\n",
    "    return lr\n",
    "\n",
    "early_stopping = tf.keras.callbacks.EarlyStopping(\n",
    "    monitor='val_loss',\n",
    "    patience=5,\n",
    "    restore_best_weights=True\n",
    ")\n",
    "\n",
    "# Define the model checkpoint callback\n",
    "checkpoint = tf.keras.callbacks.ModelCheckpoint(\n",
    "    f'{drivePath}/model_checkpoint.keras',  # File path to save the model\n",
    "    monitor='val_loss',     # Monitor the validation loss\n",
    "    save_best_only=True,    # Save only the best model\n",
    "    save_weights_only=False, # Save the entire model (architecture + weights)\n",
    "    mode='min',             # Save the model with the minimum validation loss\n",
    "    verbose=1               # Print a message when saving the model\n",
    ")\n",
    "\n",
    "# Compile the model\n",
    "model.compile(optimizer='adam', loss='binary_crossentropy', metrics=['accuracy'])\n",
    "\n",
    "# Train the model\n",
    "epochs = 100\n",
    "model.fit(\n",
    "    train_dataset,\n",
    "    validation_data=val_dataset,\n",
    "    epochs=epochs,\n",
    "    callbacks=[tf.keras.callbacks.LearningRateScheduler(lr_schedule), early_stopping, checkpoint]\n",
    ")\n",
    "\n",
    "# Save the trained model again after unfreezing and further training\n",
    "model.save(f'{drivePath}/fine_tuned_model.h5')\n"
   ]
  },
  {
   "cell_type": "code",
   "execution_count": null,
   "metadata": {
    "colab": {
     "base_uri": "https://localhost:8080/"
    },
    "executionInfo": {
     "elapsed": 126,
     "status": "ok",
     "timestamp": 1732401644738,
     "user": {
      "displayName": "Talon Marquard",
      "userId": "05252226019194787772"
     },
     "user_tz": 420
    },
    "id": "T3uaysZWE02q",
    "outputId": "38bb4fa1-54dd-4b80-96de-34b402a51399"
   },
   "outputs": [],
   "source": [
    "test_loss, test_accuracy = model.evaluate(test_dataset)\n",
    "print(f'Test loss: {test_loss}')\n",
    "print(f'Test Accuracy: {test_accuracy}')"
   ]
  }
 ],
 "metadata": {
  "colab": {
   "provenance": []
  },
  "kernelspec": {
   "display_name": "myenv",
   "language": "python",
   "name": "python3"
  },
  "language_info": {
   "codemirror_mode": {
    "name": "ipython",
    "version": 3
   },
   "file_extension": ".py",
   "mimetype": "text/x-python",
   "name": "python",
   "nbconvert_exporter": "python",
   "pygments_lexer": "ipython3",
   "version": "3.10.15"
  }
 },
 "nbformat": 4,
 "nbformat_minor": 0
}
